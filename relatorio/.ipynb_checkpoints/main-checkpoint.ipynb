{
 "cells": [
  {
   "cell_type": "markdown",
   "metadata": {},
   "source": [
    "# Identificador de máscaras\n"
   ]
  },
  {
   "cell_type": "markdown",
   "metadata": {},
   "source": [
    "# Introdução\n",
    "\n",
    "Com a pandemia do coronavirus, uma das principais preocupações para o controle do crescimento do número de casos é o quanto a população está utilizando mascarás em locais públicos. Para isso, o objetivo desse trabalho é desenvolver um programa que, dado uma imagem, reconhece quantas pessoas estão na imagem, e quantas dessas estão com máscaras.\n",
    "\n",
    "Para o reconhecimento de rostos, foi utilizada a biblioteca opencv-python, que usa visão computacional para detectar rostos. Depois, para reconhecer quais dos rostos estavam usando máscaras, calculamos os histogramas das partes da imagem com rostos. Para isso, identificamos se grande parte dos pixels tinham a mesma cor, e, se tivessem, indicam que há uma máscara."
   ]
  },
  {
   "cell_type": "markdown",
   "metadata": {},
   "source": [
    "# Métodos\n",
    "\n",
    "O processo de identificação de faces "
   ]
  },
  {
   "cell_type": "code",
   "execution_count": null,
   "metadata": {},
   "outputs": [],
   "source": [
    "#import sys\n",
    "#!{sys.executable} -m pip install opencv-python\n",
    "import cv2\n",
    "import matplotlib.pyplot as plt\n",
    "import numpy as np\n",
    "\n",
    "cascPath = \"haarcascade_frontalface_default.xml\"\n",
    "\n",
    "faceCascade = cv2.CascadeClassifier(cascPath)\n",
    "\n",
    "figures = [];\n",
    "\n",
    "for a in range(16):\n",
    "    fig_path = '../photos/' + str(a+1) + '.png';\n",
    "    image = cv2.imread(fig_path)\n",
    "    gray = cv2.cvtColor(image, cv2.COLOR_BGR2GRAY)\n",
    "    \n",
    "    faces = faceCascade.detectMultiScale(\n",
    "        gray,\n",
    "        scaleFactor=1.3,\n",
    "        minNeighbors=10,\n",
    "        minSize=(20, 20),\n",
    "        flags = cv2.CASCADE_SCALE_IMAGE\n",
    "    )\n",
    "\n",
    "    print(\"Found {0} faces!\".format(len(faces)))\n",
    "    for (x, y, w, h) in faces:\n",
    "        cv2.rectangle(image, (x, y), (x+w, y+h), (0, 255, 0), 2)\n",
    "    \n",
    "    figures.append(image)\n",
    "    cv2.imshow(\"Faces found\", image)\n",
    "\n",
    "#imgs = cv2.hconcat((figures[0], figures[1]))\n",
    "#cv2.imshow(\"Faces found\", figures[1])\n",
    "cv2.waitKey(0)"
   ]
  },
  {
   "cell_type": "markdown",
   "metadata": {},
   "source": [
    "# Limitações"
   ]
  },
  {
   "cell_type": "markdown",
   "metadata": {},
   "source": [
    "# Resultados"
   ]
  },
  {
   "cell_type": "markdown",
   "metadata": {},
   "source": [
    "# Bibliografia\n",
    "\n"
   ]
  }
 ],
 "metadata": {
  "kernelspec": {
   "display_name": "Python 3",
   "language": "python",
   "name": "python3"
  },
  "language_info": {
   "codemirror_mode": {
    "name": "ipython",
    "version": 3
   },
   "file_extension": ".py",
   "mimetype": "text/x-python",
   "name": "python",
   "nbconvert_exporter": "python",
   "pygments_lexer": "ipython3",
   "version": "3.6.5"
  }
 },
 "nbformat": 4,
 "nbformat_minor": 4
}
