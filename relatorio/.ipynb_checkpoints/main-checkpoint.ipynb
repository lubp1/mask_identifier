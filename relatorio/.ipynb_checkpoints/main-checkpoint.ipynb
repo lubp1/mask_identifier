{
 "cells": [
  {
   "cell_type": "markdown",
   "metadata": {},
   "source": [
    "# Identificador de máscaras\n",
    "\n",
    "Esse trabalho tem como objetivo a identificação de pessoas utilizando\n"
   ]
  },
  {
   "cell_type": "markdown",
   "metadata": {},
   "source": [
    "# Introdução\n",
    "\n"
   ]
  },
  {
   "cell_type": "markdown",
   "metadata": {},
   "source": [
    "# Métodos\n",
    "\n",
    "O processo de identificação de faces "
   ]
  },
  {
   "cell_type": "code",
   "execution_count": null,
   "metadata": {},
   "outputs": [
    {
     "name": "stdout",
     "output_type": "stream",
     "text": [
      "Found 0 faces!\n",
      "Found 1 faces!\n",
      "Found 1 faces!\n",
      "Found 1 faces!\n",
      "Found 1 faces!\n",
      "Found 2 faces!\n",
      "Found 2 faces!\n",
      "Found 0 faces!\n",
      "Found 0 faces!\n",
      "Found 1 faces!\n",
      "Found 1 faces!\n",
      "Found 2 faces!\n",
      "Found 0 faces!\n",
      "Found 0 faces!\n",
      "Found 0 faces!\n",
      "Found 0 faces!\n",
      "(847, 640, 3)\n",
      "(1152, 864, 3)\n"
     ]
    }
   ],
   "source": [
    "#import sys\n",
    "#!{sys.executable} -m pip install numpy\n",
    "import cv2\n",
    "import matplotlib.pyplot as plt\n",
    "import numpy as np\n",
    "\n",
    "cascPath = \"haarcascade_frontalface_default.xml\"\n",
    "\n",
    "faceCascade = cv2.CascadeClassifier(cascPath)\n",
    "\n",
    "figures = [];\n",
    "\n",
    "for a in range(16):\n",
    "    fig_path = '../photos/' + str(a+1) + '.png';\n",
    "    image = cv2.imread(fig_path)\n",
    "    gray = cv2.cvtColor(image, cv2.COLOR_BGR2GRAY)\n",
    "    \n",
    "    faces = faceCascade.detectMultiScale(\n",
    "        gray,\n",
    "        scaleFactor=1.3,\n",
    "        minNeighbors=10,\n",
    "        minSize=(20, 20),\n",
    "        flags = cv2.CASCADE_SCALE_IMAGE\n",
    "    )\n",
    "\n",
    "    print(\"Found {0} faces!\".format(len(faces)))\n",
    "    for (x, y, w, h) in faces:\n",
    "        cv2.rectangle(image, (x, y), (x+w, y+h), (0, 255, 0), 2)\n",
    "    \n",
    "    figures.append(image)\n",
    "    #cv2.imshow(\"Faces found\", image)\n",
    "\n",
    "#imgs = cv2.hconcat((figures[0], figures[1]))\n",
    "cv2.imshow(\"Faces found\", figures[1])\n",
    "cv2.waitKey(0)"
   ]
  },
  {
   "cell_type": "markdown",
   "metadata": {},
   "source": [
    "# Limitações"
   ]
  },
  {
   "cell_type": "markdown",
   "metadata": {},
   "source": [
    "# Resultados"
   ]
  },
  {
   "cell_type": "markdown",
   "metadata": {},
   "source": [
    "# Bibliografia\n",
    "\n"
   ]
  }
 ],
 "metadata": {
  "kernelspec": {
   "display_name": "Python 3.8.2 64-bit",
   "language": "python",
   "name": "python38264bite740b22e43704cf4a321a302152a9bf4"
  }
 },
 "nbformat": 4,
 "nbformat_minor": 4
}
